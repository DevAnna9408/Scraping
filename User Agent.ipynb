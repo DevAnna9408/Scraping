{
 "cells": [
  {
   "cell_type": "markdown",
   "id": "07312fd3",
   "metadata": {},
   "source": [
    "### User Agent\n",
    "- browser가 주는 header정보가 차단당할 때 사용"
   ]
  },
  {
   "cell_type": "code",
   "execution_count": 9,
   "id": "01ac930e",
   "metadata": {},
   "outputs": [],
   "source": [
    "import requests\n",
    "url = \"http://nadocoding.tistory.com\"\n",
    "headers = {\"User Agent\":\"Mozilla/5.0 (Windows NT 10.0; Win64; x64) AppleWebKit/537.36 (KHTML, like Gecko) Chrome/90.0.4430.212 Safari/537.36\"}\n",
    "res = requests.get(url, headers = headers)\n",
    "#res.raise_for_status()\n",
    "\n",
    "with open(\"nadocoding.html\", \"w\", encoding=\"utf8\") as f:\n",
    "    f.write(res.text)\n",
    "    \n",
    "# user agent string 검색 => what is User Agent로 접속하면\n",
    "# 내 user agent 정보가 나오는데 브라우저마다 다르게 나타난다"
   ]
  },
  {
   "cell_type": "code",
   "execution_count": null,
   "id": "67dd89b9",
   "metadata": {},
   "outputs": [],
   "source": []
  }
 ],
 "metadata": {
  "kernelspec": {
   "display_name": "Python 3",
   "language": "python",
   "name": "python3"
  },
  "language_info": {
   "codemirror_mode": {
    "name": "ipython",
    "version": 3
   },
   "file_extension": ".py",
   "mimetype": "text/x-python",
   "name": "python",
   "nbconvert_exporter": "python",
   "pygments_lexer": "ipython3",
   "version": "3.8.8"
  }
 },
 "nbformat": 4,
 "nbformat_minor": 5
}
