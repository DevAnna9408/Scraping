{
 "cells": [
  {
   "cell_type": "markdown",
   "id": "0e443297",
   "metadata": {},
   "source": [
    "### Reqeusts"
   ]
  },
  {
   "cell_type": "code",
   "execution_count": 48,
   "id": "7d8f4482",
   "metadata": {},
   "outputs": [
    {
     "name": "stdout",
     "output_type": "stream",
     "text": [
      "응답코드 :  200\n"
     ]
    }
   ],
   "source": [
    "import requests\n",
    "res = requests.get(\"http://www.google.com\")\n",
    "res2 = requests.get(\"http://www.google.com\")\n",
    "print('응답코드 : ',res.status_code)\n",
    "# requests code가 200이면 정상, 403이면 크롤링을 할 수 없다는 것."
   ]
  },
  {
   "cell_type": "code",
   "execution_count": 49,
   "id": "0e105b55",
   "metadata": {},
   "outputs": [
    {
     "name": "stdout",
     "output_type": "stream",
     "text": [
      "크롤링 가능\n"
     ]
    }
   ],
   "source": [
    "if res.status_code == requests.codes.ok:\n",
    "    print('크롤링 가능')\n",
    "else:\n",
    "    print('error code', res.status_code)"
   ]
  },
  {
   "cell_type": "code",
   "execution_count": 50,
   "id": "adf6faeb",
   "metadata": {},
   "outputs": [
    {
     "name": "stdout",
     "output_type": "stream",
     "text": [
      "웹 스크래핑을 진행합니다.\n"
     ]
    }
   ],
   "source": [
    "res.raise_for_status()\n",
    "print('웹 스크래핑을 진행합니다.')\n",
    "# 상단 코드를 실행했을 때, 문제가 생기면 오류가 나고\n",
    "# 정상이면 아무 일도 일어나지 않는다."
   ]
  },
  {
   "cell_type": "code",
   "execution_count": 51,
   "id": "0607615c",
   "metadata": {},
   "outputs": [
    {
     "name": "stdout",
     "output_type": "stream",
     "text": [
      "웹 스크래핑을 시작합니다\n"
     ]
    }
   ],
   "source": [
    "# 결론은 웹 스크래핑을 시작할 때는\n",
    "res = requests.get(\"http://www.naver.com\")\n",
    "res.raise_for_status\n",
    "print('웹 스크래핑을 시작합니다')"
   ]
  },
  {
   "cell_type": "markdown",
   "id": "9a052e16",
   "metadata": {},
   "source": [
    "### 스크래핑 할 웹페이지의 총 문서수를 출력하는법"
   ]
  },
  {
   "cell_type": "code",
   "execution_count": 52,
   "id": "4583d9ce",
   "metadata": {},
   "outputs": [
    {
     "name": "stdout",
     "output_type": "stream",
     "text": [
      "구글에서 긁어올 수 있는 html문서의 수는? :  14076\n"
     ]
    }
   ],
   "source": [
    "print('구글에서 긁어올 수 있는 html문서의 수는? : ',len(res2.text))"
   ]
  },
  {
   "cell_type": "code",
   "execution_count": 53,
   "id": "33ff0a16",
   "metadata": {
    "collapsed": true
   },
   "outputs": [
    {
     "name": "stdout",
     "output_type": "stream",
     "text": [
      "<!doctype html><html itemscope=\"\" itemtype=\"http://schema.org/WebPage\" lang=\"ko\"><head><meta content=\"text/html; charset=UTF-8\" http-equiv=\"Content-Type\"><meta content=\"/images/branding/googleg/1x/googleg_standard_color_128dp.png\" itemprop=\"image\"><title>Google</title><script nonce=\"NqwuOFU6ClusuMjPXKWbpA==\">(function(){window.google={kEI:'1YG5YPeLNoevmAWpm7PgCQ',kEXPI:'0,772215,1,530320,56873,954,5105,206,4804,2316,383,246,5,1354,5250,16232,10,1106274,1197713,539,30,328985,51223,16115,17444,11240,17572,4859,1361,9290,3028,17581,4020,978,13228,2054,1793,4192,6430,14528,4517,2777,919,5081,1593,1279,2212,530,149,1103,840,517,5780,3514,606,2023,1777,520,14670,3227,2845,7,4774,7580,5096,7876,4929,108,3407,908,2,941,2614,2397,10745,3,346,230,1835,4625,148,5990,6324,1661,4,1528,2304,1236,5803,1791,2893,2014,4067,14308,2658,4164,597,912,1028,654,32,3877,9751,2305,638,1494,5586,3772,6763,665,2145,376,3270,2338,228,2048,2046,20,2236,882,6,614,294,3,3541,1,4174,5771,4765,1814,283,38,875,5991,1260,3597,1897,432,552,4788,2,335,1059,738,2068,1553,5,157,2,3036,21,2017,3244,2094,1710,2,557,1341,1338,530,2,61,627,905,355,1,1,1096,924,93,199,116,235,1780,115,1160,1262,235,2620,55,406,3697,1174,1640,2,2,71,763,107,419,1206,338,2,2,445,595,1160,475,2048,544,1626,2,2,810,683,2,508,210,393,236,602,32,61,1117,3,465,109,726,299,263,936,1394,3,829,209,1030,3,286,234,204,3,56,69,747,1516,138,582,96,1887,1572,270,1656,231,500,316,306,1689,103,1150,5632268,3904,102,81,43,63,200,5996825,47,2800650,882,444,1,2,80,1,1796,1,9,2,2551,1,748,141,795,563,1,4265,1,1,2,1331,3299,843,2609,155,17,13,72,139,4,2,20,2,169,13,19,46,5,39,96,234,50,4,8,4,4,4,8,4,4,4,24,196,29,2,2,1,2,1,2,2,7,4,1,2,2,2,2,2,2,353,320,6,50,2,6,24,12,16,15,2,2,57,1,23955363,2867579,1142694,268,1678,26621,2,2377,3,120,3,344,3,1563',kBL:'k1Mu'};google.sn='webhp';google.kHL='ko';})();(function(){\n",
      "var f,h=[];function k(a){for(var b;a&&(!a.getAttribute||!(b=a.getAttribute(\"eid\")));)a=a.parentNode;return b||f}function l(a){for(var b=null;a&&(!a.getAttribute||!(b=a.getAttribute(\"leid\")));)a=a.parentNode;return b}\n",
      "function m(a,b,c,d,g){var e=\"\";c||-1!=b.search(\"&ei=\")||(e=\"&ei=\"+k(d),-1==b.search(\"&lei=\")&&(d=l(d))&&(e+=\"&lei=\"+d));d=\"\";!c&&window._cshid&&-1==b.search(\"&cshid=\")&&\"slh\"!=a&&(d=\"&cshid=\"+window._cshid);c=c||\"/\"+(g||\"gen_204\")+\"?atyp=i&ct=\"+a+\"&cad=\"+b+e+\"&zx=\"+Date.now()+d;/^http:/i.test(c)&&\"https:\"==window.location.protocol&&(google.ml&&google.ml(Error(\"a\"),!1,{src:c,glmm:1}),c=\"\");return c};f=google.kEI;google.getEI=k;google.getLEI=l;google.ml=function(){return null};google.log=function(a,b,c,d,g){if(c=m(a,b,c,d,g)){a=new Image;var e=h.length;h[e]=a;a.onerror=a.onload=a.onabort=function(){delete h[e]};a.src=c}};google.logUrl=m;}).call(this);(function(){\n",
      "google.y={};google.sy=[];google.x=function(a,b){if(a)var c=a.id;else{do c=Math.random();while(google.y[c])}google.y[c]=[a,b];return!1};google.sx=function(a){google.sy.push(a)};google.lm=[];google.plm=function(a){google.lm.push.apply(google.lm,a)};google.lq=[];google.load=function(a,b,c){google.lq.push([[a],b,c])};google.loadAll=function(a,b){google.lq.push([a,b])};google.bx=!1;google.lx=function(){};}).call(this);google.f={};(function(){\n",
      "document.documentElement.addEventListener(\"submit\",function(b){var a;if(a=b.target){var c=a.getAttribute(\"data-submitfalse\");a=\"1\"==c||\"q\"==c&&!a.elements.q.value?!0:!1}else a=!1;a&&(b.preventDefault(),b.stopPropagation())},!0);document.documentElement.addEventListener(\"click\",function(b){var a;a:{for(a=b.target;a&&a!=document.documentElement;a=a.parentElement)if(\"A\"==a.tagName){a=\"1\"==a.getAttribute(\"data-nohref\");break a}a=!1}a&&b.preventDefault()},!0);}).call(this);</script><style>#gbar,#guser{font-size:13px;padding-top:1px !important;}#gbar{height:22px}#guser{padding-bottom:7px !important;text-align:right}.gbh,.gbd{border-top:1px solid #c9d7f1;font-size:1px}.gbh{height:0;position:absolute;top:24px;width:100%}@media all{.gb1{height:22px;margin-right:.5em;vertical-align:top}#gbar{float:left}}a.gb1,a.gb4{text-decoration:underline !important}a.gb1,a.gb4{color:#00c !important}.gbi .gb4{color:#dd8e27 !important}.gbf .gb4{color:#900 !important}\n",
      "</style><style>body,td,a,p,.h{font-family:&#44404;&#47548;,&#46027;&#50880;,arial,sans-serif}.ko{font-size:9pt}body{margin:0;overflow-y:scroll}#gog{padding:3px 8px 0}td{line-height:.8em}.gac_m td{line-height:17px}form{margin-bottom:20px}.h{color:#1558d6}em{font-weight:bold;font-style:normal}.lst{height:25px;width:496px}.gsfi,.lst{font:18px arial,sans-serif}.gsfs{font:17px arial,sans-serif}.ds{display:inline-box;display:inline-block;margin:3px 0 4px;margin-left:4px}input{font-family:inherit}body{background:#fff;color:#000}a{color:#4b11a8;text-decoration:none}a:hover,a:active{text-decoration:underline}.fl a{color:#1558d6}a:visited{color:#4b11a8}.sblc{padding-top:5px}.sblc a{display:block;margin:2px 0;margin-left:13px;font-size:11px}.lsbb{background:#f8f9fa;border:solid 1px;border-color:#dadce0 #70757a #70757a #dadce0;height:30px}.lsbb{display:block}#WqQANb a{display:inline-block;margin:0 12px}.lsb{background:url(/images/nav_logo229.png) 0 -261px repeat-x;border:none;color:#000;cursor:pointer;height:30px;margin:0;outline:0;font:15px arial,sans-serif;vertical-align:top}.lsb:active{background:#dadce0}.lst:focus{outline:none}.tiah{width:458px}</style><script nonce=\"NqwuOFU6ClusuMjPXKWbpA==\"></script></head><body bgcolor=\"#fff\"><script nonce=\"NqwuOFU6ClusuMjPXKWbpA==\">(function(){var src='/images/nav_logo229.png';var iesg=false;document.body.onload = function(){window.n && window.n();if (document.images){new Image().src=src;}\n",
      "if (!iesg){document.f&&document.f.q.focus();document.gbqf&&document.gbqf.q.focus();}\n",
      "}\n",
      "})();</script><div id=\"mngb\"><div id=gbar><nobr><b class=gb1>&#44160;&#49353;</b> <a class=gb1 href=\"http://www.google.co.kr/imghp?hl=ko&tab=wi\">&#51060;&#48120;&#51648;</a> <a class=gb1 href=\"http://maps.google.co.kr/maps?hl=ko&tab=wl\">&#51648;&#46020;</a> <a class=gb1 href=\"https://play.google.com/?hl=ko&tab=w8\">Play</a> <a class=gb1 href=\"http://www.youtube.com/?gl=KR&tab=w1\">YouTube</a> <a class=gb1 href=\"https://news.google.com/?tab=wn\">&#45684;&#49828;</a> <a class=gb1 href=\"https://mail.google.com/mail/?tab=wm\">Gmail</a> <a class=gb1 href=\"https://drive.google.com/?tab=wo\">&#46300;&#46972;&#51060;&#48652;</a> <a class=gb1 style=\"text-decoration:none\" href=\"https://www.google.co.kr/intl/ko/about/products?tab=wh\"><u>&#45908;&#48372;&#44592;</u> &raquo;</a></nobr></div><div id=guser width=100%><nobr><span id=gbn class=gbi></span><span id=gbf class=gbf></span><span id=gbe></span><a href=\"http://www.google.co.kr/history/optout?hl=ko\" class=gb4>&#50937; &#44592;&#47197;</a> | <a  href=\"/preferences?hl=ko\" class=gb4>&#49444;&#51221;</a> | <a target=_top id=gb_70 href=\"https://accounts.google.com/ServiceLogin?hl=ko&passive=true&continue=http://www.google.com/&ec=GAZAAQ\" class=gb4>&#47196;&#44536;&#51064;</a></nobr></div><div class=gbh style=left:0></div><div class=gbh style=right:0></div></div><center><br clear=\"all\" id=\"lgpd\"><div id=\"lga\"><img alt=\"Google\" height=\"92\" src=\"/images/branding/googlelogo/1x/googlelogo_white_background_color_272x92dp.png\" style=\"padding:28px 0 14px\" width=\"272\" id=\"hplogo\"><br><br></div><form action=\"/search\" name=\"f\"><table cellpadding=\"0\" cellspacing=\"0\"><tr valign=\"top\"><td width=\"25%\">&nbsp;</td><td align=\"center\" nowrap=\"\"><input name=\"ie\" value=\"ISO-8859-1\" type=\"hidden\"><input value=\"ko\" name=\"hl\" type=\"hidden\"><input name=\"source\" type=\"hidden\" value=\"hp\"><input name=\"biw\" type=\"hidden\"><input name=\"bih\" type=\"hidden\"><div class=\"ds\" style=\"height:32px;margin:4px 0\"><div style=\"position:relative;zoom:1\"><input class=\"lst tiah\" style=\"margin:0;padding:5px 8px 0 6px;vertical-align:top;color:#000;padding-right:38px\" autocomplete=\"off\" value=\"\" title=\"Google &#44160;&#49353;\" maxlength=\"2048\" name=\"q\" size=\"57\"><img src=\"/textinputassistant/tia.png\" style=\"position:absolute;cursor:pointer;right:5px;top:4px;z-index:300\" data-script-url=\"/textinputassistant/11/ko_tia.js\" id=\"tsuid1\" alt=\"\" height=\"23\" width=\"27\"><script nonce=\"NqwuOFU6ClusuMjPXKWbpA==\">(function(){var id='tsuid1';document.getElementById(id).onclick = function(){var s = document.createElement('script');s.src = this.getAttribute('data-script-url');(document.getElementById('xjsc')||document.body).appendChild(s);};})();</script></div></div><br style=\"line-height:0\"><span class=\"ds\"><span class=\"lsbb\"><input class=\"lsb\" value=\"Google &#44160;&#49353;\" name=\"btnG\" type=\"submit\"></span></span><span class=\"ds\"><span class=\"lsbb\"><input class=\"lsb\" id=\"tsuid2\" value=\"I&#8217;m Feeling Lucky\" name=\"btnI\" type=\"submit\"><script nonce=\"NqwuOFU6ClusuMjPXKWbpA==\">(function(){var id='tsuid2';document.getElementById(id).onclick = function(){if (this.form.q.value){this.checked = 1;if (this.form.iflsig)this.form.iflsig.disabled = false;}\n",
      "else top.location='/doodles/';};})();</script><input value=\"AINFCbYAAAAAYLmP5WMA-cCvNIMk7yZjzG5PEWx46oFE\" name=\"iflsig\" type=\"hidden\"></span></span></td><td class=\"fl sblc\" align=\"left\" nowrap=\"\" width=\"25%\"><a href=\"/advanced_search?hl=ko&amp;authuser=0\">&#44256;&#44553;&#44160;&#49353;</a></td></tr></table><input id=\"gbv\" name=\"gbv\" type=\"hidden\" value=\"1\"><script nonce=\"NqwuOFU6ClusuMjPXKWbpA==\">(function(){\n",
      "var a,b=\"1\";if(document&&document.getElementById)if(\"undefined\"!=typeof XMLHttpRequest)b=\"2\";else if(\"undefined\"!=typeof ActiveXObject){var c,d,e=[\"MSXML2.XMLHTTP.6.0\",\"MSXML2.XMLHTTP.3.0\",\"MSXML2.XMLHTTP\",\"Microsoft.XMLHTTP\"];for(c=0;d=e[c++];)try{new ActiveXObject(d),b=\"2\"}catch(h){}}a=b;if(\"2\"==a&&-1==location.search.indexOf(\"&gbv=2\")){var f=google.gbvu,g=document.getElementById(\"gbv\");g&&(g.value=a);f&&window.setTimeout(function(){location.href=f},0)};}).call(this);</script></form><div id=\"gac_scont\"></div><div style=\"font-size:83%;min-height:3.5em\"><br></div><span id=\"footer\"><div style=\"font-size:10pt\"><div style=\"margin:19px auto;text-align:center\" id=\"WqQANb\"><a href=\"/intl/ko/ads/\">&#44305;&#44256; &#54532;&#47196;&#44536;&#47016;</a><a href=\"http://www.google.co.kr/intl/ko/services/\">&#48708;&#51592;&#45768;&#49828; &#49556;&#47336;&#49496;</a><a href=\"/intl/ko/about.html\">Google &#51221;&#48372;</a><a href=\"http://www.google.com/setprefdomain?prefdom=KR&amp;prev=http://www.google.co.kr/&amp;sig=K_PmL1hT-ZX6uuH1UTGpEYN4jCaHc%3D\">Google.co.kr</a></div></div><p style=\"font-size:8pt;color:#70757a\">&copy; 2021 - <a href=\"/intl/ko/policies/privacy/\">&#44060;&#51064;&#51221;&#48372;&#52376;&#47532;&#48169;&#52840;</a> - <a href=\"/intl/ko/policies/terms/\">&#50557;&#44288;</a></p></span></center><script nonce=\"NqwuOFU6ClusuMjPXKWbpA==\">(function(){window.google.cdo={height:0,width:0};(function(){\n",
      "var a=window.innerWidth,b=window.innerHeight;if(!a||!b){var c=window.document,d=\"CSS1Compat\"==c.compatMode?c.documentElement:c.body;a=d.clientWidth;b=d.clientHeight}a&&b&&(a!=google.cdo.width||b!=google.cdo.height)&&google.log(\"\",\"\",\"/client_204?&atyp=i&biw=\"+a+\"&bih=\"+b+\"&ei=\"+google.kEI);}).call(this);})();</script> <script nonce=\"NqwuOFU6ClusuMjPXKWbpA==\">(function(){google.xjs={ck:'',cs:'',excm:[],pml:false};})();</script>  <script nonce=\"NqwuOFU6ClusuMjPXKWbpA==\">(function(){var u='/xjs/_/js/k\\x3dxjs.hp.en.4CQ86GKG3Vg.O/m\\x3dsb_he,d/am\\x3dAHgCLA/d\\x3d1/ed\\x3d1/rs\\x3dACT90oHcR-pf_5WvALLZSKtJO-Jxfnj2Mg';\n",
      "var e=this||self,f=function(a){return a};var g;var l=function(a,b){this.g=b===h?a:\"\"};l.prototype.toString=function(){return this.g+\"\"};var h={};function m(){var a=u;google.lx=function(){n(a);google.lx=function(){}};google.bx||google.lx()}\n",
      "function n(a){google.timers&&google.timers.load&&google.tick&&google.tick(\"load\",\"xjsls\");var b=document;var c=\"SCRIPT\";\"application/xhtml+xml\"===b.contentType&&(c=c.toLowerCase());c=b.createElement(c);if(void 0===g){b=null;var k=e.trustedTypes;if(k&&k.createPolicy){try{b=k.createPolicy(\"goog#html\",{createHTML:f,createScript:f,createScriptURL:f})}catch(p){e.console&&e.console.error(p.message)}g=b}else g=b}a=(b=g)?b.createScriptURL(a):a;a=new l(a,h);c.src=a instanceof l&&a.constructor===l?a.g:\"type_error:TrustedResourceUrl\";var d;a=(c.ownerDocument&&c.ownerDocument.defaultView||window).document;(d=(a=null===(d=a.querySelector)||void 0===d?void 0:d.call(a,\"script[nonce]\"))?a.nonce||a.getAttribute(\"nonce\")||\"\":\"\")&&c.setAttribute(\"nonce\",d);document.body.appendChild(c);google.psa=!0};setTimeout(function(){m()},0);})();(function(){window.google.xjsu='/xjs/_/js/k\\x3dxjs.hp.en.4CQ86GKG3Vg.O/m\\x3dsb_he,d/am\\x3dAHgCLA/d\\x3d1/ed\\x3d1/rs\\x3dACT90oHcR-pf_5WvALLZSKtJO-Jxfnj2Mg';})();function _DumpException(e){throw e;}\n",
      "function _F_installCss(c){}\n",
      "(function(){google.jl={blt:'none',dw:false,emtn:0,ine:false,lls:'default',pdt:0,snet:true,ubm:false,uwp:true};})();(function(){var pmc='{\\x22d\\x22:{},\\x22sb_he\\x22:{\\x22agen\\x22:true,\\x22cgen\\x22:true,\\x22client\\x22:\\x22heirloom-hp\\x22,\\x22dh\\x22:true,\\x22dhqt\\x22:true,\\x22ds\\x22:\\x22\\x22,\\x22ffql\\x22:\\x22ko\\x22,\\x22fl\\x22:true,\\x22host\\x22:\\x22google.com\\x22,\\x22isbh\\x22:28,\\x22jsonp\\x22:true,\\x22msgs\\x22:{\\x22cibl\\x22:\\x22&#44160;&#49353;&#50612; &#51648;&#50864;&#44592;\\x22,\\x22dym\\x22:\\x22&#51060;&#44163;&#51012; &#52286;&#51004;&#49512;&#45208;&#50836;?\\x22,\\x22lcky\\x22:\\x22I&#8217;m Feeling Lucky\\x22,\\x22lml\\x22:\\x22&#51088;&#49464;&#55176; &#50508;&#50500;&#48372;&#44592;\\x22,\\x22oskt\\x22:\\x22&#51077;&#47141; &#46020;&#44396;\\x22,\\x22psrc\\x22:\\x22&#44160;&#49353;&#50612;&#44032; \\\\u003Ca href\\x3d\\\\\\x22/history\\\\\\x22\\\\u003E&#50937; &#44592;&#47197;\\\\u003C/a\\\\u003E&#50640;&#49436; &#49325;&#51228;&#46104;&#50632;&#49845;&#45768;&#45796;.\\x22,\\x22psrl\\x22:\\x22&#49325;&#51228;\\x22,\\x22sbit\\x22:\\x22&#51060;&#48120;&#51648;&#47196; &#44160;&#49353;\\x22,\\x22srch\\x22:\\x22Google &#44160;&#49353;\\x22},\\x22nrft\\x22:false,\\x22ovr\\x22:{},\\x22pq\\x22:\\x22\\x22,\\x22refpd\\x22:true,\\x22refspre\\x22:true,\\x22rfs\\x22:[],\\x22sbas\\x22:\\x220 3px 8px 0 rgba(0,0,0,0.2),0 0 0 1px rgba(0,0,0,0.08)\\x22,\\x22sbpl\\x22:16,\\x22sbpr\\x22:16,\\x22scd\\x22:10,\\x22stok\\x22:\\x22PF16pM_au5o3SmYv-2c-vzxte-g\\x22,\\x22uhde\\x22:false}}';google.pmc=JSON.parse(pmc);})();</script>        </body></html>\n"
     ]
    }
   ],
   "source": [
    "# 문서 내 HTML Tag를 보려면\n",
    "print(res2.text)"
   ]
  },
  {
   "cell_type": "code",
   "execution_count": 54,
   "id": "8c0789d3",
   "metadata": {},
   "outputs": [],
   "source": [
    "# html파일로 만들어서 보려면\n",
    "# w는 write : 쓰기 모드, 폴더에 별도로 저장된다\n",
    "with open(\"mygoogle.html\", \"w\", encoding=\"utf8\") as f:\n",
    "    f.write(res2.text)"
   ]
  },
  {
   "cell_type": "markdown",
   "id": "d5c1b453",
   "metadata": {},
   "source": [
    "### 정규식(1), Regular Expression "
   ]
  },
  {
   "cell_type": "code",
   "execution_count": 66,
   "id": "d87628eb",
   "metadata": {},
   "outputs": [
    {
     "name": "stdout",
     "output_type": "stream",
     "text": [
      "m.group() :  case\n",
      "m.string() :  case\n",
      "m.start():  0\n",
      "m.end() :  4\n",
      "m.span() :  (0, 4)\n"
     ]
    }
   ],
   "source": [
    "# 정해진 규칙으로서, 주민등록번호는 앞 6자리 뒤 7자리이며\n",
    "# 모두 숫자로 작성해야 한다 등\n",
    "import re # 정규식 라이브러리 임포트\n",
    "\n",
    "p = re.compile(\"ca.e\") # 어떤 정규식을 컴파일 할건지?\n",
    "# .(ca.e) : 하나의 문자를 의미 => case, cafe, cave..\n",
    "# ^(^de) : 문자열의 시작 => desk, destination..\n",
    "# $(se$) : 문자열의 끝 => case, base..\n",
    "\n",
    "def print_match(m):\n",
    "    if m:\n",
    "        print(\"m.group() : \", m.group()) # 일치하는 문자열 반환\n",
    "        print(\"m.string() : \", m.string) # 입력받은 문자열 반환\n",
    "        print(\"m.start(): \", m.start()) # 일치하는 문자열의 시작 index\n",
    "        print(\"m.end() : \", m.end()) # 일치하는 문자열의 끝 index\n",
    "        print(\"m.span() : \", m.span()) # 일치하는 문자열의 시작과 끝 index 각개\n",
    "    else:\n",
    "        print('error!')\n",
    "    \n",
    "        \n",
    "m = p.match(\"case\") # 정규식과 매칭이 되면 출력되고, 안되면 error\n",
    "# 주어진 문자열이 처음부터 일치하는지 확인하기 때문에\n",
    "# careless를 넣으면 care가 출력됩니다.\n",
    "print_match(m)"
   ]
  },
  {
   "cell_type": "markdown",
   "id": "cda20da2",
   "metadata": {},
   "source": [
    "### 정규식(2)"
   ]
  },
  {
   "cell_type": "markdown",
   "id": "fceac95e",
   "metadata": {},
   "source": [
    "#### 1. p = re.compile(\"원하는 형태\")\n",
    "#### 2. m = p.match(\"비교 할 문자열\") : 주어진 문자열의 처음부터 일치하는지 확인\n",
    "#### 3. m = p.search(\"비교 할 문자열\") : 주어진 문자열 중에 일치하는 것이 있는지 확인\n",
    "#### 4. list = p.findall(\"비교 할 문자열\") : 일치하는 모든것을 리스트 형태로 반환"
   ]
  },
  {
   "cell_type": "code",
   "execution_count": 61,
   "id": "1c01f829",
   "metadata": {},
   "outputs": [
    {
     "name": "stdout",
     "output_type": "stream",
     "text": [
      "care\n"
     ]
    }
   ],
   "source": [
    "m = p.search(\"good care\") # search : 주어진 문자열 중에 일치하는게 있는지?\n",
    "print_match(m)"
   ]
  },
  {
   "cell_type": "code",
   "execution_count": 71,
   "id": "df183fc3",
   "metadata": {},
   "outputs": [
    {
     "name": "stdout",
     "output_type": "stream",
     "text": [
      "['care', 'cafe']\n"
     ]
    }
   ],
   "source": [
    "list = p.findall(\"careless cafe\") # findall : 일치하는 모든것을 리스트 형태로 반환\n",
    "print(list)"
   ]
  },
  {
   "cell_type": "markdown",
   "id": "1bdeddb9",
   "metadata": {},
   "source": [
    "### User Agent\n",
    " - browser가 주는 header정보가 차단당할 때 사용"
   ]
  },
  {
   "cell_type": "code",
   "execution_count": null,
   "id": "022574da",
   "metadata": {},
   "outputs": [],
   "source": []
  },
  {
   "cell_type": "code",
   "execution_count": null,
   "id": "265428e4",
   "metadata": {},
   "outputs": [],
   "source": []
  },
  {
   "cell_type": "code",
   "execution_count": null,
   "id": "c3b761f9",
   "metadata": {},
   "outputs": [],
   "source": []
  },
  {
   "cell_type": "code",
   "execution_count": null,
   "id": "80118556",
   "metadata": {},
   "outputs": [],
   "source": []
  },
  {
   "cell_type": "code",
   "execution_count": null,
   "id": "bc3cb9e0",
   "metadata": {},
   "outputs": [],
   "source": []
  },
  {
   "cell_type": "code",
   "execution_count": null,
   "id": "f0a5fbce",
   "metadata": {},
   "outputs": [],
   "source": []
  },
  {
   "cell_type": "code",
   "execution_count": null,
   "id": "9ebe852a",
   "metadata": {},
   "outputs": [],
   "source": []
  },
  {
   "cell_type": "code",
   "execution_count": null,
   "id": "8de3d8f3",
   "metadata": {},
   "outputs": [],
   "source": []
  },
  {
   "cell_type": "code",
   "execution_count": null,
   "id": "fde31564",
   "metadata": {},
   "outputs": [],
   "source": []
  }
 ],
 "metadata": {
  "kernelspec": {
   "display_name": "Python 3",
   "language": "python",
   "name": "python3"
  },
  "language_info": {
   "codemirror_mode": {
    "name": "ipython",
    "version": 3
   },
   "file_extension": ".py",
   "mimetype": "text/x-python",
   "name": "python",
   "nbconvert_exporter": "python",
   "pygments_lexer": "ipython3",
   "version": "3.8.8"
  }
 },
 "nbformat": 4,
 "nbformat_minor": 5
}
