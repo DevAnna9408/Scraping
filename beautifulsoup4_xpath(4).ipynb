{
 "cells": [
  {
   "cell_type": "markdown",
   "id": "08f563c5",
   "metadata": {},
   "source": [
    "### 쿠팡 스크래핑\n",
    "\n",
    "#### HTTP METHOD\n",
    " - 겟방식 : 루트를 전부 보여주는 방식\n",
    "  - 포스트 : BODY에 메세지를 담아 보내주는 방식"
   ]
  },
  {
   "cell_type": "code",
   "execution_count": 1,
   "id": "6755c088",
   "metadata": {},
   "outputs": [],
   "source": [
    "import requests\n",
    "from bs4 import BeautifulSoup\n",
    "url = \"https://www.coupang.com/np/search?q=%EB%85%B8%ED%8A%B8%EB%B6%81&channel=user&component=&eventCategory=SRP&trcid=&traid=&sorter=scoreDesc&minPrice=&maxPrice=&priceRange=&filterType=&listSize=36&filter=&isPriceRange=false&brand=&offerCondition=&rating=0&page=1&rocketAll=false&searchIndexingToken=1=4&backgroundColor=\"\n",
    "# headers = {User-Agent : \"~\"} 를 입력하면 사람이 브라우저에 로그인 한 것으로 인식된다."
   ]
  },
  {
   "cell_type": "code",
   "execution_count": null,
   "id": "6fbb69f8",
   "metadata": {},
   "outputs": [],
   "source": [
    "res = requests.get(url)\n",
    "res.raise_for_status()\n",
    "soup = BeautifulSoup(res.text, \"lxml\")\n",
    "print(res.text)"
   ]
  },
  {
   "cell_type": "code",
   "execution_count": null,
   "id": "5067f1d9",
   "metadata": {
    "scrolled": true
   },
   "outputs": [],
   "source": [
    "import re\n",
    "\n",
    "items = soup.find_all(\"li\", attrs = {\"class\":re.compile(\"^search-product\")})\n",
    "print(items[0].find(\"div\", attrs={\"class\":\"name\"}).get_text()) # 정규식을 섞은 것으로\n",
    "# li태그의 class속성이 search-product로 '시작하는'(정규식) text를 가져온다\n"
   ]
  },
  {
   "cell_type": "code",
   "execution_count": null,
   "id": "61fdd7bd",
   "metadata": {},
   "outputs": [],
   "source": [
    "for item in items:\n",
    "    \n",
    "    # 광고제품은 제외할것\n",
    "    \n",
    "    ad_badge = item.find(\"span\", attrs = {\"class\":\"ad-badge-text\"})\n",
    "    if ad_badge:\n",
    "        print(\"<광고 상품 제외>\")\n",
    "        continue\n",
    "        \n",
    "    name = item.find(\"div\", attrs={\"class\":\"name\"}).get_text() # 정규식을 섞은 것으로\n",
    "    \n",
    "    # 애플 제품 제외\n",
    "    \n",
    "    if \"Apple\" in name:\n",
    "        print(\"<애플 상품 제외>\")\n",
    "        continue\n",
    "    \n",
    "    price = item.find(\"strong\", attrs = {\"class\":\"price-vlaue\"})\n",
    "    \n",
    "    # 리뷰 n개 이상, 평점은 4.5 이상만 조회\n",
    "    \n",
    "    rate = item.find(\"em\", attrs = {\"class\":\"rating\"})\n",
    "    if rate:\n",
    "        rate = rate.get_text()\n",
    "    else:\n",
    "        print('<평점 없는 상품 제외>')\n",
    "        continue\n",
    "        \n",
    "    rate_cnt = item.find(\"span\", attrs = {\"class\" :\"rating-total-count\" })\n",
    "   \n",
    "    if rate_cnt:\n",
    "        rate_cnt = rate_cnt.get_text()\n",
    "    else:\n",
    "        print(\"<평점 없는 상품 제외>\")\n",
    "        continue\n",
    "        \n",
    "    if float(rate) >= 4.5 and int(rate_cnt[1:-1]) >= 500:\n",
    "        print(name, price, rate, rate_cnt)"
   ]
  },
  {
   "cell_type": "markdown",
   "id": "ab40861c",
   "metadata": {},
   "source": [
    "### 1 ~ 6page까지 조건에 맞는 구문만 스크래이핑"
   ]
  },
  {
   "cell_type": "code",
   "execution_count": null,
   "id": "16057610",
   "metadata": {},
   "outputs": [],
   "source": [
    "link = item.find(\"a\", attrs = {\"class\":\"search-product-link\"})[\"href\"]\n",
    "\n",
    "for i in range(1, 6):\n",
    "    url = \"https://www.coupang.com/np/search?q=%EB%85%B8%ED%8A%B8%EB%B6%81&channel=user&component=&eventCategory=SRP&trcid=&traid=&sorter=scoreDesc&minPrice=&maxPrice=&priceRange=&filterType=&listSize=36&filter=&isPriceRange=false&brand=&offerCondition=&rating=0&page={}&rocketAll=false&searchIndexingToken=1=4&backgroundColor=\"\n",
    "    \".format(i)\n",
    "    \n",
    "    res = requests.get(url)\n",
    "    res.raise_for_status()\n",
    "    soup = BeautifulSoup(res.text, \"lxml\")\n",
    "    items = soup.find_all(\"li\", attrs = {\"class\":re.compile(\"^search-product\")})\n",
    "    \n",
    "    for item in items:\n",
    "    \n",
    "    # 광고제품은 제외할것\n",
    "    \n",
    "        ad_badge = item.find(\"span\", attrs = {\"class\":\"ad-badge-text\"})\n",
    "        if ad_badge:\n",
    "            print(\"<광고 상품 제외>\")\n",
    "            continue\n",
    "        \n",
    "        name = item.find(\"div\", attrs={\"class\":\"name\"}).get_text() # 정규식을 섞은 것으로\n",
    "    \n",
    "    # 애플 제품 제외\n",
    "    \n",
    "        if \"Apple\" in name:\n",
    "            print(\"<애플 상품 제외>\")\n",
    "            continue\n",
    "    \n",
    "        price = item.find(\"strong\", attrs = {\"class\":\"price-vlaue\"})\n",
    "    \n",
    "    # 리뷰 n개 이상, 평점은 4.5 이상만 조회\n",
    "    \n",
    "        rate = item.find(\"em\", attrs = {\"class\":\"rating\"})\n",
    "        if rate:\n",
    "            rate = rate.get_text()\n",
    "        else:\n",
    "            print('<평점 없는 상품 제외>')\n",
    "            continue\n",
    "        \n",
    "        rate_cnt = item.find(\"span\", attrs = {\"class\" :\"rating-total-count\" })\n",
    "   \n",
    "        if rate_cnt:\n",
    "            rate_cnt = rate_cnt.get_text()\n",
    "        else:\n",
    "            print(\"<평점 없는 상품 제외>\")\n",
    "            continue\n",
    "        \n",
    "        if float(rate) >= 4.5 and int(rate_cnt[1:-1]) >= 500:\n",
    "            #print(name, price, rate, rate_cnt)\n",
    "            print(f\"제품명 : {name}\")\n",
    "            print(f\"가격 : {price}\")\n",
    "            print(f\"평점 : {rate}점 ({rate_cnt}개)\")\n",
    "            print(\"바로가기 : {}\".format(\"https://www.coupang.com\" + link))\n",
    "            print(\"-\"*100) # 줄 긋는거\n",
    "            \n",
    "    "
   ]
  }
 ],
 "metadata": {
  "kernelspec": {
   "display_name": "Python 3",
   "language": "python",
   "name": "python3"
  },
  "language_info": {
   "codemirror_mode": {
    "name": "ipython",
    "version": 3
   },
   "file_extension": ".py",
   "mimetype": "text/x-python",
   "name": "python",
   "nbconvert_exporter": "python",
   "pygments_lexer": "ipython3",
   "version": "3.8.8"
  }
 },
 "nbformat": 4,
 "nbformat_minor": 5
}