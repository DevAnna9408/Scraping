{
 "cells": [
  {
   "cell_type": "code",
   "execution_count": 4,
   "id": "efad25e1",
   "metadata": {},
   "outputs": [],
   "source": [
    "from selenium import webdriver\n",
    "\n",
    "browser = webdriver.Chrome() # 괄호 안은 exe파일의 경로를 써 주는 부분\n",
    "browser.get(\"https://flight.naver.com/flights/\")\n",
    "# browser.maximize_window() 창 최대화로 열기"
   ]
  },
  {
   "cell_type": "code",
   "execution_count": 5,
   "id": "09651578",
   "metadata": {},
   "outputs": [],
   "source": [
    "import time\n",
    "\n",
    "# 가는 날 선택 클릭\n",
    "browser.find_element_by_link_text(\"가는날 선택\").click()\n",
    "time.sleep(1)\n",
    "\n",
    "# 이번 달 27일, 28일 선택\n",
    "browser.find_elements_by_link_text(\"27\")[0].click()\n",
    "time.sleep(1)\n",
    "browser.find_elements_by_link_text(\"28\")[0].click()\n",
    "time.sleep(1)"
   ]
  },
  {
   "cell_type": "code",
   "execution_count": null,
   "id": "f69c8820",
   "metadata": {},
   "outputs": [],
   "source": []
  }
 ],
 "metadata": {
  "kernelspec": {
   "display_name": "Python 3",
   "language": "python",
   "name": "python3"
  },
  "language_info": {
   "codemirror_mode": {
    "name": "ipython",
    "version": 3
   },
   "file_extension": ".py",
   "mimetype": "text/x-python",
   "name": "python",
   "nbconvert_exporter": "python",
   "pygments_lexer": "ipython3",
   "version": "3.8.8"
  }
 },
 "nbformat": 4,
 "nbformat_minor": 5
}
