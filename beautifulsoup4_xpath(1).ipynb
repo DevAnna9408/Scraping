{
 "cells": [
  {
   "cell_type": "code",
   "execution_count": 1,
   "id": "7f6d8163",
   "metadata": {},
   "outputs": [
    {
     "name": "stdout",
     "output_type": "stream",
     "text": [
      "Requirement already satisfied: beautifulsoup4 in c:\\users\\lg\\anaconda3\\lib\\site-packages (4.9.3)Note: you may need to restart the kernel to use updated packages.\n",
      "\n",
      "Requirement already satisfied: soupsieve>1.2 in c:\\users\\lg\\anaconda3\\lib\\site-packages (from beautifulsoup4) (2.2.1)\n"
     ]
    }
   ],
   "source": [
    "pip install beautifulsoup4"
   ]
  },
  {
   "cell_type": "code",
   "execution_count": 2,
   "id": "31feb9c1",
   "metadata": {},
   "outputs": [
    {
     "name": "stdout",
     "output_type": "stream",
     "text": [
      "Requirement already satisfied: lxml in c:\\users\\lg\\anaconda3\\lib\\site-packages (4.6.3)Note: you may need to restart the kernel to use updated packages.\n",
      "\n"
     ]
    }
   ],
   "source": [
    "pip install lxml\n",
    "# 어떤 구문을 분석하는 parser"
   ]
  },
  {
   "cell_type": "code",
   "execution_count": 4,
   "id": "c0260761",
   "metadata": {},
   "outputs": [],
   "source": [
    "import requests\n",
    "from bs4 import BeautifulSoup"
   ]
  },
  {
   "cell_type": "code",
   "execution_count": 10,
   "id": "0c9ed2bb",
   "metadata": {},
   "outputs": [
    {
     "name": "stdout",
     "output_type": "stream",
     "text": [
      "<title>네이버 만화 &gt; 요일별  웹툰 &gt; 전체웹툰</title>\n",
      "\n",
      "<a href=\"#menu\" onclick=\"document.getElementById('menu').tabIndex=-1;document.getElementById('menu').focus();return false;\"><span>메인 메뉴로 바로가기</span></a>\n",
      "\n",
      "{'href': '#menu', 'onclick': \"document.getElementById('menu').tabIndex=-1;document.getElementById('menu').focus();return false;\"}\n",
      "\n",
      "#menu\n"
     ]
    }
   ],
   "source": [
    "url = \"https://comic.naver.com/webtoon/weekday.nhn\"\n",
    "res = requests.get(url)\n",
    "res.raise_for_status()\n",
    "\n",
    "soup = BeautifulSoup(res.text, \"lxml\")\n",
    "# 우리가 가져온 html정보는 lxml로 parsing해서 soup 객체로 가져오겠다.\n",
    "print(soup.title) # html의 title정보를 가져온다\n",
    "print('')\n",
    "print(soup.a) # 첫 번째로 발견되는 a tag의 정보 전체를 가져온다\n",
    "print('')\n",
    "print(soup.a.attrs) # a태그가 가진 속성(attributes = attrs)을 딕셔너리 형태로 반환\n",
    "print('')\n",
    "print(soup.a[\"href\"]) # a태그가 가진 href속성을 가져온다"
   ]
  },
  {
   "cell_type": "code",
   "execution_count": 12,
   "id": "3f025952",
   "metadata": {},
   "outputs": [
    {
     "data": {
      "text/plain": [
       "<a class=\"Nbtn_upload\" href=\"/mypage/myActivity.nhn\" onclick=\"nclk_v2(event,'olk.upload');\">웹툰 올리기</a>"
      ]
     },
     "execution_count": 12,
     "metadata": {},
     "output_type": "execute_result"
    }
   ],
   "source": [
    "soup.find(\"a\", attrs={\"class\":\"Nbtn_upload\"})\n",
    "# 우리가 a태그를 찾고 싶은데, class가 Nbtn_upload인 부분을 찾아라\n",
    "# soup.find(attrs={\"class\":\"Nbtn_upload\"}) => 이렇게 하면 모든 태그의 클래스를 가져오는 것"
   ]
  },
  {
   "cell_type": "code",
   "execution_count": 13,
   "id": "b13be60d",
   "metadata": {},
   "outputs": [
    {
     "name": "stdout",
     "output_type": "stream",
     "text": [
      "<li class=\"rank01\">\n",
      "<a href=\"/webtoon/detail.nhn?titleId=641253&amp;no=342\" onclick=\"nclk_v2(event,'rnk*p.cont','641253','1')\" title=\"외모지상주의-342화 일해회 (3계열사) [13]\">외모지상주의-342화 일해회 (3계열사) [13]</a>\n",
      "<span class=\"rankBox\">\n",
      "<img alt=\"변동없음\" height=\"10\" src=\"https://ssl.pstatic.net/static/comic/images/migration/common/arrow_no.gif\" title=\"변동없음\" width=\"7\"/> 0\n",
      "\t\t\t\t\t\t\n",
      "\t\t\t\t\t\n",
      "\t\t\t\t</span>\n",
      "</li>\n"
     ]
    }
   ],
   "source": [
    "print(soup.find(\"li\", attrs={\"class\":\"rank01\"}))\n",
    "# list 태그 중 class가 rank01 인 내용을 모두 출력"
   ]
  },
  {
   "cell_type": "code",
   "execution_count": 15,
   "id": "0c37fd06",
   "metadata": {},
   "outputs": [
    {
     "name": "stdout",
     "output_type": "stream",
     "text": [
      "<a href=\"/webtoon/detail.nhn?titleId=641253&amp;no=342\" onclick=\"nclk_v2(event,'rnk*p.cont','641253','1')\" title=\"외모지상주의-342화 일해회 (3계열사) [13]\">외모지상주의-342화 일해회 (3계열사) [13]</a>\n"
     ]
    }
   ],
   "source": [
    "rank1 = soup.find(\"li\", attrs={\"class\":\"rank01\"})\n",
    "print(rank1.a)\n",
    "# list 태그 중 class가 rank01 인 a 태그 내 내용을 모두 출력"
   ]
  },
  {
   "cell_type": "code",
   "execution_count": 21,
   "id": "85f16628",
   "metadata": {},
   "outputs": [
    {
     "name": "stdout",
     "output_type": "stream",
     "text": [
      "외모지상주의-342화 일해회 (3계열사) [13]\n",
      "갓 오브 하이스쿨-516화\n"
     ]
    }
   ],
   "source": [
    "print(rank1.a.get_text()) # 글자 부분만 출력\n",
    "rank2 = rank1.next_sibling.next_sibling # 형제태그를 출력\n",
    "print(rank2.a.get_text())\n",
    "# 가운에 hr/태그가 있을 수 도 있어서 두 번 적어주는 것"
   ]
  },
  {
   "cell_type": "code",
   "execution_count": 23,
   "id": "4cea0dd8",
   "metadata": {
    "collapsed": true
   },
   "outputs": [
    {
     "name": "stdout",
     "output_type": "stream",
     "text": [
      "\n",
      "\n",
      "외모지상주의-342화 일해회 (3계열사) [13]\n",
      "\n",
      " 0\n",
      "\t\t\t\t\t\t\n",
      "\t\t\t\t\t\n",
      "\t\t\t\t\n",
      "\n",
      "\n",
      "갓 오브 하이스쿨-516화\n",
      "\n",
      " 0\n",
      "\t\t\t\t\t\t\n",
      "\t\t\t\t\t\n",
      "\t\t\t\t\n",
      "\n",
      "\n",
      "재혼 황후-84화\n",
      "\n",
      " 0\n",
      "\t\t\t\t\t\t\n",
      "\t\t\t\t\t\n",
      "\t\t\t\t\n",
      "\n",
      "\n",
      "1초-116화 영웅지재\n",
      "\n",
      " 0\n",
      "\t\t\t\t\t\t\n",
      "\t\t\t\t\t\n",
      "\t\t\t\t\n",
      "\n",
      "\n",
      "데드퀸-39화\n",
      "\n",
      " 0\n",
      "\t\t\t\t\t\t\n",
      "\t\t\t\t\t\n",
      "\t\t\t\t\n",
      "\n",
      "\n",
      "개를 낳았다-시즌2 55화\n",
      "\n",
      " 0\n",
      "\t\t\t\t\t\t\n",
      "\t\t\t\t\t\n",
      "\t\t\t\t\n",
      "\n",
      "\n",
      "죽지 않으려면-3화\n",
      "\n",
      " 0\n",
      "\t\t\t\t\t\t\n",
      "\t\t\t\t\t\n",
      "\t\t\t\t\n",
      "\n",
      "\n",
      "낙향문사전-56화. 재회\n",
      "\n",
      " 0\n",
      "\t\t\t\t\t\t\n",
      "\t\t\t\t\t\n",
      "\t\t\t\t\n",
      "\n",
      "\n",
      "걸어서 30분-184화 감기\n",
      "\n",
      " 0\n",
      "\t\t\t\t\t\t\n",
      "\t\t\t\t\t\n",
      "\t\t\t\t\n",
      "\n",
      "\n",
      "플레이어-57화\n",
      "\n",
      " 0\n",
      "\t\t\t\t\t\t\n",
      "\t\t\t\t\t\n",
      "\t\t\t\t\n",
      "\n",
      "\n"
     ]
    }
   ],
   "source": [
    "print(rank1.parent.get_text()) # 부모태그를 모두 찾는 법"
   ]
  },
  {
   "cell_type": "code",
   "execution_count": 27,
   "id": "93096edf",
   "metadata": {},
   "outputs": [
    {
     "name": "stdout",
     "output_type": "stream",
     "text": [
      "갓 오브 하이스쿨-516화\n"
     ]
    }
   ],
   "source": [
    "rank3 = rank1.find_next_sibling(\"li\")\n",
    "print(rank3.a.get_text()) # 가운데 개행을 제외하고 li태그 내용만 전부 가져와라"
   ]
  },
  {
   "cell_type": "code",
   "execution_count": 33,
   "id": "0083fda2",
   "metadata": {},
   "outputs": [
    {
     "ename": "AttributeError",
     "evalue": "ResultSet object has no attribute 'a'. You're probably treating a list of elements like a single element. Did you call find_all() when you meant to call find()?",
     "output_type": "error",
     "traceback": [
      "\u001b[1;31m---------------------------------------------------------------------------\u001b[0m",
      "\u001b[1;31mAttributeError\u001b[0m                            Traceback (most recent call last)",
      "\u001b[1;32m<ipython-input-33-b45ee56f4ca0>\u001b[0m in \u001b[0;36m<module>\u001b[1;34m\u001b[0m\n\u001b[0;32m      1\u001b[0m \u001b[0mrank1\u001b[0m\u001b[1;33m.\u001b[0m\u001b[0mfind_next_siblings\u001b[0m\u001b[1;33m(\u001b[0m\u001b[1;34m\"li\"\u001b[0m\u001b[1;33m)\u001b[0m \u001b[1;31m# li태그를 가진 형제들을 모두 가져와라\u001b[0m\u001b[1;33m\u001b[0m\u001b[1;33m\u001b[0m\u001b[0m\n\u001b[0;32m      2\u001b[0m \u001b[0mrank4\u001b[0m \u001b[1;33m=\u001b[0m \u001b[0mrank1\u001b[0m\u001b[1;33m.\u001b[0m\u001b[0mfind_next_siblings\u001b[0m\u001b[1;33m(\u001b[0m\u001b[1;34m\"li\"\u001b[0m\u001b[1;33m)\u001b[0m\u001b[1;33m\u001b[0m\u001b[1;33m\u001b[0m\u001b[0m\n\u001b[1;32m----> 3\u001b[1;33m \u001b[0mprint\u001b[0m\u001b[1;33m(\u001b[0m\u001b[0mrank4\u001b[0m\u001b[1;33m.\u001b[0m\u001b[0ma\u001b[0m\u001b[1;33m)\u001b[0m\u001b[1;33m\u001b[0m\u001b[1;33m\u001b[0m\u001b[0m\n\u001b[0m",
      "\u001b[1;32m~\\anaconda3\\lib\\site-packages\\bs4\\element.py\u001b[0m in \u001b[0;36m__getattr__\u001b[1;34m(self, key)\u001b[0m\n\u001b[0;32m   2171\u001b[0m     \u001b[1;32mdef\u001b[0m \u001b[0m__getattr__\u001b[0m\u001b[1;33m(\u001b[0m\u001b[0mself\u001b[0m\u001b[1;33m,\u001b[0m \u001b[0mkey\u001b[0m\u001b[1;33m)\u001b[0m\u001b[1;33m:\u001b[0m\u001b[1;33m\u001b[0m\u001b[1;33m\u001b[0m\u001b[0m\n\u001b[0;32m   2172\u001b[0m         \u001b[1;34m\"\"\"Raise a helpful exception to explain a common code fix.\"\"\"\u001b[0m\u001b[1;33m\u001b[0m\u001b[1;33m\u001b[0m\u001b[0m\n\u001b[1;32m-> 2173\u001b[1;33m         raise AttributeError(\n\u001b[0m\u001b[0;32m   2174\u001b[0m             \u001b[1;34m\"ResultSet object has no attribute '%s'. You're probably treating a list of elements like a single element. Did you call find_all() when you meant to call find()?\"\u001b[0m \u001b[1;33m%\u001b[0m \u001b[0mkey\u001b[0m\u001b[1;33m\u001b[0m\u001b[1;33m\u001b[0m\u001b[0m\n\u001b[0;32m   2175\u001b[0m         )\n",
      "\u001b[1;31mAttributeError\u001b[0m: ResultSet object has no attribute 'a'. You're probably treating a list of elements like a single element. Did you call find_all() when you meant to call find()?"
     ]
    }
   ],
   "source": [
    "rank1.find_next_siblings(\"li\") # li태그를 가진 형제들을 모두 가져와라\n",
    "rank4 = rank1.find_next_siblings(\"li\")\n",
    "print(rank4)"
   ]
  },
  {
   "cell_type": "code",
   "execution_count": 37,
   "id": "8dd0a7a4",
   "metadata": {},
   "outputs": [
    {
     "name": "stdout",
     "output_type": "stream",
     "text": [
      "<a href=\"/webtoon/detail.nhn?titleId=318995&amp;no=520\" onclick=\"nclk_v2(event,'rnk*p.cont','318995','2')\" title=\"갓 오브 하이스쿨-516화\">갓 오브 하이스쿨-516화</a>\n"
     ]
    }
   ],
   "source": [
    "webtoon = soup.find(\"a\", text=\"갓 오브 하이스쿨-516화\")\n",
    "print(webtoon) # 해당 text를 가진 a태그의 내용을 가져와라"
   ]
  },
  {
   "cell_type": "code",
   "execution_count": null,
   "id": "9bfff860",
   "metadata": {},
   "outputs": [],
   "source": []
  },
  {
   "cell_type": "code",
   "execution_count": null,
   "id": "bf660e8b",
   "metadata": {},
   "outputs": [],
   "source": []
  },
  {
   "cell_type": "code",
   "execution_count": null,
   "id": "1c7c2082",
   "metadata": {},
   "outputs": [],
   "source": []
  }
 ],
 "metadata": {
  "kernelspec": {
   "display_name": "Python 3",
   "language": "python",
   "name": "python3"
  },
  "language_info": {
   "codemirror_mode": {
    "name": "ipython",
    "version": 3
   },
   "file_extension": ".py",
   "mimetype": "text/x-python",
   "name": "python",
   "nbconvert_exporter": "python",
   "pygments_lexer": "ipython3",
   "version": "3.8.8"
  }
 },
 "nbformat": 4,
 "nbformat_minor": 5
}
