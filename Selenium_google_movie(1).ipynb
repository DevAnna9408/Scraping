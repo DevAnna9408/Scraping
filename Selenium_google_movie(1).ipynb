{
 "cells": [
  {
   "cell_type": "code",
   "execution_count": 1,
   "id": "3a101157",
   "metadata": {},
   "outputs": [],
   "source": [
    "import requests\n",
    "from bs4 import BeautifulSoup"
   ]
  },
  {
   "cell_type": "code",
   "execution_count": 2,
   "id": "cc8bf304",
   "metadata": {},
   "outputs": [],
   "source": [
    "url = \"https://play.google.com/store/movies?hl=ko&gl=US\"\n",
    "\n",
    "headers = {\n",
    "    \"User-Agent\":\"Mozilla/5.0 (Windows NT 10.0; Win64; x64) AppleWebKit/537.36 (KHTML, like Gecko) Chrome/91.0.4472.77 Safari/537.36\",\n",
    "    \"Accept-Language\":\"ko-KR,ko\"\n",
    "    }\n",
    "\n",
    "res = requests.get(url, headers = headers)\n",
    "res.raise_for_status()\n",
    "soup = BeautifulSoup(res.text, \"lxml\")"
   ]
  },
  {
   "cell_type": "code",
   "execution_count": 3,
   "id": "00d46d69",
   "metadata": {},
   "outputs": [
    {
     "name": "stdout",
     "output_type": "stream",
     "text": [
      "80\n"
     ]
    }
   ],
   "source": [
    "movies = soup.find_all(\"div\", attrs = {\"class\":\"WHE7ib mpg5gc\"})\n",
    "print(len(movies))\n",
    "with open(\"movies.html\", \"w\", encoding=\"utf8\") as f:\n",
    "    f.write(soup.prettify()) # Html을 좀더 깔끔하게 출력\n",
    "    #f.write(res.text) <=X    \n",
    "# 만약 html 파일을 열었는데 기존 브라우저와 다른 내용이 출력된다면\n",
    "# 그건 페이지가 접속하는 header에 따라 다른 브라우저를 리턴 해 주기 때문\n",
    "# 그러면 User Agent를 사용하면 된다"
   ]
  },
  {
   "cell_type": "markdown",
   "id": "b3630a05",
   "metadata": {},
   "source": [
    "### BS와 Sele의 차이!\n",
    "#### bs4는 동적 페이지를 스크래이핑 할 수 없어서 스크롤을 내리면 나타나는 이미지 등을 불러올 수 없다"
   ]
  },
  {
   "cell_type": "code",
   "execution_count": 4,
   "id": "4c57bbcf",
   "metadata": {
    "scrolled": true
   },
   "outputs": [
    {
     "name": "stdout",
     "output_type": "stream",
     "text": [
      "Wrath Of Man\n",
      "라야와 마지막 드래곤\n",
      "고질라 VS. 콩\n",
      "Four Good Days\n",
      "톰과 제리\n",
      "The Marksman\n",
      "Spiral: From The Book of Saw\n",
      "A Quiet Place Part II\n",
      "The Dry\n",
      "Unholy, The\n",
      "A Quiet Place\n",
      "Spiral: From The Book of Saw\n",
      "A Quiet Place Part II\n",
      "Nobody\n",
      "Wrath Of Man\n",
      "The Marksman\n",
      "고질라 VS. 콩\n",
      "Four Good Days\n",
      "톰과 제리\n",
      "라야와 마지막 드래곤\n",
      "Monster Hunter\n",
      "The Vault\n",
      "Annabelle Comes Home\n",
      "Jigsaw\n",
      "Thirteen Ghosts\n",
      "Annabelle: Creation\n",
      "Tyler Perry's Temptation: Confessions of a Marriage Counselor\n",
      "Freaks\n",
      "Rango\n",
      "Masterminds\n",
      "Ip Man 4: The Finale\n",
      "Possessor: Uncut\n",
      "Rambo\n",
      "Cut to the Chase\n",
      "Guitar Man\n",
      "Shadow\n",
      "Dredd\n",
      "Monster Hunter\n",
      "Cut Throat City\n",
      "Freaks\n",
      "Wrath Of Man\n",
      "Spiral: From The Book of Saw\n",
      "The Girl Who Believes in Miracles\n",
      "The Marksman\n",
      "Flashback\n",
      "Four Good Days\n",
      "The Dry\n",
      "Dutch\n",
      "The Water Man\n",
      "Riders of Justice\n",
      "Bao\n",
      "Ip Man 4-Movie Collection\n",
      "뮬란\n",
      "Maquia: When the Promised Flower Blooms\n",
      "BTS: Global Takeover\n",
      "Dragon Ball Super: Broly\n",
      "Abominable\n",
      "Ip Man 4: The Finale\n",
      "Ip Man: Kung Fu Master\n",
      "My Hero Academia: Two Heroes (Original Japanese Version)\n",
      "Harry Potter Complete Collection\n",
      "Toy Story 4-Movie Collection\n",
      "The Lord of the Rings: The Motion Picture Trilogy\n",
      "Super Troopers 2-Movie Collection\n",
      "The Friday Collection\n",
      "Midway / Hacksaw Ridge - Double Feature\n",
      "IT 2-Film Collection (2pk)\n",
      "Spider-Man Legacy Collection\n",
      "Austin Powers 3-Film Collection\n",
      "Frozen 2-Movie Collection\n",
      "Ip Man 4: The Finale\n",
      "Rango\n",
      "Cut to the Chase\n",
      "Rambo\n",
      "Shadow\n",
      "Cut Throat City\n",
      "Monster Hunter\n",
      "Revenge of the Green Dragons\n",
      "Road Trip\n",
      "Immortals\n"
     ]
    }
   ],
   "source": [
    "for movie in movies:\n",
    "    title = movie.find(\"div\", attrs = {\"class\":\"WsMG1c nnK0zc\"}).get_text()\n",
    "    print(title)"
   ]
  },
  {
   "cell_type": "markdown",
   "id": "2e7f0357",
   "metadata": {},
   "source": [
    "### ------------------------- ###"
   ]
  },
  {
   "cell_type": "code",
   "execution_count": 5,
   "id": "5c033e91",
   "metadata": {},
   "outputs": [],
   "source": [
    "from selenium import webdriver\n",
    "from selenium.webdriver.common.by import By\n",
    "from selenium.webdriver.support.ui import WebDriverWait\n",
    "from selenium.webdriver.support import expected_conditions as EC\n",
    "import time\n",
    "browser = webdriver.Chrome()"
   ]
  },
  {
   "cell_type": "markdown",
   "id": "e97b4f41",
   "metadata": {},
   "source": [
    "### 스크롤 내리면서 스크래이핑 하기"
   ]
  },
  {
   "cell_type": "code",
   "execution_count": 10,
   "id": "29e1344c",
   "metadata": {},
   "outputs": [
    {
     "ename": "WebDriverException",
     "evalue": "Message: chrome not reachable\n  (Session info: chrome=91.0.4472.77)\n",
     "output_type": "error",
     "traceback": [
      "\u001b[1;31m---------------------------------------------------------------------------\u001b[0m",
      "\u001b[1;31mWebDriverException\u001b[0m                        Traceback (most recent call last)",
      "\u001b[1;32m<ipython-input-10-0df9a62ad99c>\u001b[0m in \u001b[0;36m<module>\u001b[1;34m\u001b[0m\n\u001b[1;32m----> 1\u001b[1;33m \u001b[0mbrowser\u001b[0m\u001b[1;33m.\u001b[0m\u001b[0mget\u001b[0m\u001b[1;33m(\u001b[0m\u001b[1;34m\"https://play.google.com/store/movies?hl=ko&gl=US\"\u001b[0m\u001b[1;33m)\u001b[0m\u001b[1;33m\u001b[0m\u001b[1;33m\u001b[0m\u001b[0m\n\u001b[0m\u001b[0;32m      2\u001b[0m \u001b[0mbrowser\u001b[0m\u001b[1;33m.\u001b[0m\u001b[0mmaximize_window\u001b[0m\u001b[1;33m(\u001b[0m\u001b[1;33m)\u001b[0m\u001b[1;33m\u001b[0m\u001b[1;33m\u001b[0m\u001b[0m\n",
      "\u001b[1;32m~\\anaconda3\\lib\\site-packages\\selenium\\webdriver\\remote\\webdriver.py\u001b[0m in \u001b[0;36mget\u001b[1;34m(self, url)\u001b[0m\n\u001b[0;32m    331\u001b[0m         \u001b[0mLoads\u001b[0m \u001b[0ma\u001b[0m \u001b[0mweb\u001b[0m \u001b[0mpage\u001b[0m \u001b[1;32min\u001b[0m \u001b[0mthe\u001b[0m \u001b[0mcurrent\u001b[0m \u001b[0mbrowser\u001b[0m \u001b[0msession\u001b[0m\u001b[1;33m.\u001b[0m\u001b[1;33m\u001b[0m\u001b[1;33m\u001b[0m\u001b[0m\n\u001b[0;32m    332\u001b[0m         \"\"\"\n\u001b[1;32m--> 333\u001b[1;33m         \u001b[0mself\u001b[0m\u001b[1;33m.\u001b[0m\u001b[0mexecute\u001b[0m\u001b[1;33m(\u001b[0m\u001b[0mCommand\u001b[0m\u001b[1;33m.\u001b[0m\u001b[0mGET\u001b[0m\u001b[1;33m,\u001b[0m \u001b[1;33m{\u001b[0m\u001b[1;34m'url'\u001b[0m\u001b[1;33m:\u001b[0m \u001b[0murl\u001b[0m\u001b[1;33m}\u001b[0m\u001b[1;33m)\u001b[0m\u001b[1;33m\u001b[0m\u001b[1;33m\u001b[0m\u001b[0m\n\u001b[0m\u001b[0;32m    334\u001b[0m \u001b[1;33m\u001b[0m\u001b[0m\n\u001b[0;32m    335\u001b[0m     \u001b[1;33m@\u001b[0m\u001b[0mproperty\u001b[0m\u001b[1;33m\u001b[0m\u001b[1;33m\u001b[0m\u001b[0m\n",
      "\u001b[1;32m~\\anaconda3\\lib\\site-packages\\selenium\\webdriver\\remote\\webdriver.py\u001b[0m in \u001b[0;36mexecute\u001b[1;34m(self, driver_command, params)\u001b[0m\n\u001b[0;32m    319\u001b[0m         \u001b[0mresponse\u001b[0m \u001b[1;33m=\u001b[0m \u001b[0mself\u001b[0m\u001b[1;33m.\u001b[0m\u001b[0mcommand_executor\u001b[0m\u001b[1;33m.\u001b[0m\u001b[0mexecute\u001b[0m\u001b[1;33m(\u001b[0m\u001b[0mdriver_command\u001b[0m\u001b[1;33m,\u001b[0m \u001b[0mparams\u001b[0m\u001b[1;33m)\u001b[0m\u001b[1;33m\u001b[0m\u001b[1;33m\u001b[0m\u001b[0m\n\u001b[0;32m    320\u001b[0m         \u001b[1;32mif\u001b[0m \u001b[0mresponse\u001b[0m\u001b[1;33m:\u001b[0m\u001b[1;33m\u001b[0m\u001b[1;33m\u001b[0m\u001b[0m\n\u001b[1;32m--> 321\u001b[1;33m             \u001b[0mself\u001b[0m\u001b[1;33m.\u001b[0m\u001b[0merror_handler\u001b[0m\u001b[1;33m.\u001b[0m\u001b[0mcheck_response\u001b[0m\u001b[1;33m(\u001b[0m\u001b[0mresponse\u001b[0m\u001b[1;33m)\u001b[0m\u001b[1;33m\u001b[0m\u001b[1;33m\u001b[0m\u001b[0m\n\u001b[0m\u001b[0;32m    322\u001b[0m             response['value'] = self._unwrap_value(\n\u001b[0;32m    323\u001b[0m                 response.get('value', None))\n",
      "\u001b[1;32m~\\anaconda3\\lib\\site-packages\\selenium\\webdriver\\remote\\errorhandler.py\u001b[0m in \u001b[0;36mcheck_response\u001b[1;34m(self, response)\u001b[0m\n\u001b[0;32m    240\u001b[0m                 \u001b[0malert_text\u001b[0m \u001b[1;33m=\u001b[0m \u001b[0mvalue\u001b[0m\u001b[1;33m[\u001b[0m\u001b[1;34m'alert'\u001b[0m\u001b[1;33m]\u001b[0m\u001b[1;33m.\u001b[0m\u001b[0mget\u001b[0m\u001b[1;33m(\u001b[0m\u001b[1;34m'text'\u001b[0m\u001b[1;33m)\u001b[0m\u001b[1;33m\u001b[0m\u001b[1;33m\u001b[0m\u001b[0m\n\u001b[0;32m    241\u001b[0m             \u001b[1;32mraise\u001b[0m \u001b[0mexception_class\u001b[0m\u001b[1;33m(\u001b[0m\u001b[0mmessage\u001b[0m\u001b[1;33m,\u001b[0m \u001b[0mscreen\u001b[0m\u001b[1;33m,\u001b[0m \u001b[0mstacktrace\u001b[0m\u001b[1;33m,\u001b[0m \u001b[0malert_text\u001b[0m\u001b[1;33m)\u001b[0m\u001b[1;33m\u001b[0m\u001b[1;33m\u001b[0m\u001b[0m\n\u001b[1;32m--> 242\u001b[1;33m         \u001b[1;32mraise\u001b[0m \u001b[0mexception_class\u001b[0m\u001b[1;33m(\u001b[0m\u001b[0mmessage\u001b[0m\u001b[1;33m,\u001b[0m \u001b[0mscreen\u001b[0m\u001b[1;33m,\u001b[0m \u001b[0mstacktrace\u001b[0m\u001b[1;33m)\u001b[0m\u001b[1;33m\u001b[0m\u001b[1;33m\u001b[0m\u001b[0m\n\u001b[0m\u001b[0;32m    243\u001b[0m \u001b[1;33m\u001b[0m\u001b[0m\n\u001b[0;32m    244\u001b[0m     \u001b[1;32mdef\u001b[0m \u001b[0m_value_or_default\u001b[0m\u001b[1;33m(\u001b[0m\u001b[0mself\u001b[0m\u001b[1;33m,\u001b[0m \u001b[0mobj\u001b[0m\u001b[1;33m,\u001b[0m \u001b[0mkey\u001b[0m\u001b[1;33m,\u001b[0m \u001b[0mdefault\u001b[0m\u001b[1;33m)\u001b[0m\u001b[1;33m:\u001b[0m\u001b[1;33m\u001b[0m\u001b[1;33m\u001b[0m\u001b[0m\n",
      "\u001b[1;31mWebDriverException\u001b[0m: Message: chrome not reachable\n  (Session info: chrome=91.0.4472.77)\n"
     ]
    }
   ],
   "source": [
    "browser.get(\"https://play.google.com/store/movies?hl=ko&gl=US\")\n",
    "browser.maximize_window()"
   ]
  },
  {
   "cell_type": "code",
   "execution_count": null,
   "id": "63980a69",
   "metadata": {},
   "outputs": [],
   "source": [
    "# 모니터의 세로 해상도만큼 스크롤 내리기\n",
    "#browser.execute_script(\"window.scrollTo(0, 1080)\")\n",
    "# 페이지의 가장 아래로 스크롤 내리기\n",
    "browser.execute_script(\"window.scrollTo(0, document.body.scrollHeight)\")\n",
    "\n",
    "interval = 2\n",
    "\n",
    "#현재 문서의 높이를 가져와서 저장\n",
    "prev_height = browser.execute_script(\"return document.body.scrollHeight\")\n",
    "\n",
    "# 반복문\n",
    "\n",
    "while True:\n",
    "    # 스크롤을 가장 아래로 내린 다음\n",
    "    browser.execute_script(\"return document.body.scrollHeight\")\n",
    "    \n",
    "    # 페이지 로딩 대기\n",
    "    time.sleep(interval)\n",
    "    \n",
    "    curr_height = browser.execute_script(\"return document.body.scrollHeight\")\n",
    "    if curr_height == prev_height:\n",
    "        break\n",
    "        \n",
    "    prev_height = curr_height\n",
    "    \n",
    "print('스크롤 완료')"
   ]
  },
  {
   "cell_type": "code",
   "execution_count": null,
   "id": "d0023440",
   "metadata": {},
   "outputs": [],
   "source": []
  },
  {
   "cell_type": "code",
   "execution_count": null,
   "id": "b7ec522a",
   "metadata": {},
   "outputs": [],
   "source": []
  }
 ],
 "metadata": {
  "kernelspec": {
   "display_name": "Python 3",
   "language": "python",
   "name": "python3"
  },
  "language_info": {
   "codemirror_mode": {
    "name": "ipython",
    "version": 3
   },
   "file_extension": ".py",
   "mimetype": "text/x-python",
   "name": "python",
   "nbconvert_exporter": "python",
   "pygments_lexer": "ipython3",
   "version": "3.8.8"
  }
 },
 "nbformat": 4,
 "nbformat_minor": 5
}
